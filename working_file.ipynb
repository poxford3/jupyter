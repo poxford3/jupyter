{
    "cells": [
        {
            "cell_type": "markdown",
            "metadata": {},
            "source": [
                "<h1><center>Working with Data</center></h1>\n",
                "<hr>"
            ]
        },
        {
            "cell_type": "markdown",
            "metadata": {},
            "source": [
                "<h3>importing libraries</h3>"
            ]
        },
        {
            "cell_type": "code",
            "execution_count": 2,
            "metadata": {},
            "outputs": [],
            "source": [
                "import matplotlib\n",
                "import pandas as pd\n",
                "import numpy as np"
            ]
        },
        {
            "cell_type": "markdown",
            "metadata": {},
            "source": [
                "### establishing dataframe"
            ]
        },
        {
            "cell_type": "code",
            "execution_count": 9,
            "metadata": {},
            "outputs": [
                {
                    "data": {
                        "text/html": [
                            "<div>\n",
                            "<style scoped>\n",
                            "    .dataframe tbody tr th:only-of-type {\n",
                            "        vertical-align: middle;\n",
                            "    }\n",
                            "\n",
                            "    .dataframe tbody tr th {\n",
                            "        vertical-align: top;\n",
                            "    }\n",
                            "\n",
                            "    .dataframe thead th {\n",
                            "        text-align: right;\n",
                            "    }\n",
                            "</style>\n",
                            "<table border=\"1\" class=\"dataframe\">\n",
                            "  <thead>\n",
                            "    <tr style=\"text-align: right;\">\n",
                            "      <th></th>\n",
                            "      <th>Car</th>\n",
                            "      <th>MPG</th>\n",
                            "      <th>Cylinders</th>\n",
                            "      <th>Displacement</th>\n",
                            "      <th>Horsepower</th>\n",
                            "      <th>Weight</th>\n",
                            "      <th>Acceleration</th>\n",
                            "      <th>Model</th>\n",
                            "      <th>Origin</th>\n",
                            "    </tr>\n",
                            "  </thead>\n",
                            "  <tbody>\n",
                            "    <tr>\n",
                            "      <th>0</th>\n",
                            "      <td>Chevrolet Chevelle Malibu</td>\n",
                            "      <td>18.0</td>\n",
                            "      <td>8</td>\n",
                            "      <td>307.0</td>\n",
                            "      <td>130.0</td>\n",
                            "      <td>3504.0</td>\n",
                            "      <td>12.0</td>\n",
                            "      <td>70</td>\n",
                            "      <td>US</td>\n",
                            "    </tr>\n",
                            "    <tr>\n",
                            "      <th>1</th>\n",
                            "      <td>Buick Skylark 320</td>\n",
                            "      <td>15.0</td>\n",
                            "      <td>8</td>\n",
                            "      <td>350.0</td>\n",
                            "      <td>165.0</td>\n",
                            "      <td>3693.0</td>\n",
                            "      <td>11.5</td>\n",
                            "      <td>70</td>\n",
                            "      <td>US</td>\n",
                            "    </tr>\n",
                            "    <tr>\n",
                            "      <th>2</th>\n",
                            "      <td>Plymouth Satellite</td>\n",
                            "      <td>18.0</td>\n",
                            "      <td>8</td>\n",
                            "      <td>318.0</td>\n",
                            "      <td>150.0</td>\n",
                            "      <td>3436.0</td>\n",
                            "      <td>11.0</td>\n",
                            "      <td>70</td>\n",
                            "      <td>US</td>\n",
                            "    </tr>\n",
                            "    <tr>\n",
                            "      <th>3</th>\n",
                            "      <td>AMC Rebel SST</td>\n",
                            "      <td>16.0</td>\n",
                            "      <td>8</td>\n",
                            "      <td>304.0</td>\n",
                            "      <td>150.0</td>\n",
                            "      <td>3433.0</td>\n",
                            "      <td>12.0</td>\n",
                            "      <td>70</td>\n",
                            "      <td>US</td>\n",
                            "    </tr>\n",
                            "    <tr>\n",
                            "      <th>4</th>\n",
                            "      <td>Ford Torino</td>\n",
                            "      <td>17.0</td>\n",
                            "      <td>8</td>\n",
                            "      <td>302.0</td>\n",
                            "      <td>140.0</td>\n",
                            "      <td>3449.0</td>\n",
                            "      <td>10.5</td>\n",
                            "      <td>70</td>\n",
                            "      <td>US</td>\n",
                            "    </tr>\n",
                            "  </tbody>\n",
                            "</table>\n",
                            "</div>"
                        ],
                        "text/plain": [
                            "                         Car   MPG  Cylinders  Displacement  Horsepower  \\\n",
                            "0  Chevrolet Chevelle Malibu  18.0          8         307.0       130.0   \n",
                            "1          Buick Skylark 320  15.0          8         350.0       165.0   \n",
                            "2         Plymouth Satellite  18.0          8         318.0       150.0   \n",
                            "3              AMC Rebel SST  16.0          8         304.0       150.0   \n",
                            "4                Ford Torino  17.0          8         302.0       140.0   \n",
                            "\n",
                            "   Weight  Acceleration  Model Origin  \n",
                            "0  3504.0          12.0     70     US  \n",
                            "1  3693.0          11.5     70     US  \n",
                            "2  3436.0          11.0     70     US  \n",
                            "3  3433.0          12.0     70     US  \n",
                            "4  3449.0          10.5     70     US  "
                        ]
                    },
                    "execution_count": 9,
                    "metadata": {},
                    "output_type": "execute_result"
                }
            ],
            "source": [
                "df = pd.read_csv('cars.csv')\n",
                "\n",
                "df.head()"
            ]
        },
        {
            "cell_type": "markdown",
            "metadata": {},
            "source": [
                "### working through the data"
            ]
        },
        {
            "cell_type": "code",
            "execution_count": 28,
            "metadata": {},
            "outputs": [
                {
                    "data": {
                        "text/plain": [
                            "<AxesSubplot:xlabel='Cylinders'>"
                        ]
                    },
                    "execution_count": 28,
                    "metadata": {},
                    "output_type": "execute_result"
                },
                {
                    "data": {
                        "image/png": "[encoded data removed]",
                        "text/plain": [
                            "<Figure size 432x288 with 1 Axes>"
                        ]
                    },
                    "metadata": {
                        "needs_background": "light"
                    },
                    "output_type": "display_data"
                }
            ],
            "source": [
                "df.groupby(\"Cylinders\").mean()['Horsepower'].plot(kind='line')"
            ]
        },
        {
            "cell_type": "code",
            "execution_count": 11,
            "metadata": {},
            "outputs": [
                {
                    "data": {
                        "text/plain": [
                            "Car              object\n",
                            "MPG             float64\n",
                            "Cylinders         int64\n",
                            "Displacement    float64\n",
                            "Horsepower      float64\n",
                            "Weight          float64\n",
                            "Acceleration    float64\n",
                            "Model             int64\n",
                            "Origin           object\n",
                            "dtype: object"
                        ]
                    },
                    "execution_count": 11,
                    "metadata": {},
                    "output_type": "execute_result"
                }
            ],
            "source": [
                "df.dtypes"
            ]
        },
        {
            "cell_type": "code",
            "execution_count": 14,
            "metadata": {},
            "outputs": [
                {
                    "data": {
                        "text/html": [
                            "<div>\n",
                            "<style scoped>\n",
                            "    .dataframe tbody tr th:only-of-type {\n",
                            "        vertical-align: middle;\n",
                            "    }\n",
                            "\n",
                            "    .dataframe tbody tr th {\n",
                            "        vertical-align: top;\n",
                            "    }\n",
                            "\n",
                            "    .dataframe thead th {\n",
                            "        text-align: right;\n",
                            "    }\n",
                            "</style>\n",
                            "<table border=\"1\" class=\"dataframe\">\n",
                            "  <thead>\n",
                            "    <tr style=\"text-align: right;\">\n",
                            "      <th></th>\n",
                            "      <th>Car</th>\n",
                            "      <th>MPG</th>\n",
                            "      <th>Cylinders</th>\n",
                            "      <th>Displacement</th>\n",
                            "      <th>Horsepower</th>\n",
                            "      <th>Weight</th>\n",
                            "      <th>Acceleration</th>\n",
                            "      <th>Model</th>\n",
                            "      <th>Origin</th>\n",
                            "    </tr>\n",
                            "  </thead>\n",
                            "  <tbody>\n",
                            "    <tr>\n",
                            "      <th>281</th>\n",
                            "      <td>Audi 5000</td>\n",
                            "      <td>20.3</td>\n",
                            "      <td>5</td>\n",
                            "      <td>131.0</td>\n",
                            "      <td>103.0</td>\n",
                            "      <td>2830.0</td>\n",
                            "      <td>15.9</td>\n",
                            "      <td>78</td>\n",
                            "      <td>Europe</td>\n",
                            "    </tr>\n",
                            "    <tr>\n",
                            "      <th>304</th>\n",
                            "      <td>Mercedes Benz 300d</td>\n",
                            "      <td>25.4</td>\n",
                            "      <td>5</td>\n",
                            "      <td>183.0</td>\n",
                            "      <td>77.0</td>\n",
                            "      <td>3530.0</td>\n",
                            "      <td>20.1</td>\n",
                            "      <td>79</td>\n",
                            "      <td>Europe</td>\n",
                            "    </tr>\n",
                            "    <tr>\n",
                            "      <th>334</th>\n",
                            "      <td>Audi 5000s (diesel)</td>\n",
                            "      <td>36.4</td>\n",
                            "      <td>5</td>\n",
                            "      <td>121.0</td>\n",
                            "      <td>67.0</td>\n",
                            "      <td>2950.0</td>\n",
                            "      <td>19.9</td>\n",
                            "      <td>80</td>\n",
                            "      <td>Europe</td>\n",
                            "    </tr>\n",
                            "  </tbody>\n",
                            "</table>\n",
                            "</div>"
                        ],
                        "text/plain": [
                            "                     Car   MPG  Cylinders  Displacement  Horsepower  Weight  \\\n",
                            "281            Audi 5000  20.3          5         131.0       103.0  2830.0   \n",
                            "304   Mercedes Benz 300d  25.4          5         183.0        77.0  3530.0   \n",
                            "334  Audi 5000s (diesel)  36.4          5         121.0        67.0  2950.0   \n",
                            "\n",
                            "     Acceleration  Model  Origin  \n",
                            "281          15.9     78  Europe  \n",
                            "304          20.1     79  Europe  \n",
                            "334          19.9     80  Europe  "
                        ]
                    },
                    "execution_count": 14,
                    "metadata": {},
                    "output_type": "execute_result"
                }
            ],
            "source": [
                "cyl5 = df[df['Cylinders'] == 5]\n",
                "\n",
                "cyl5.head(10)"
            ]
        },
        {
            "cell_type": "markdown",
            "metadata": {},
            "source": [
                "<h3>Setting up plots</h3>"
            ]
        },
        {
            "cell_type": "code",
            "execution_count": 24,
            "metadata": {},
            "outputs": [
                {
                    "data": {
                        "image/png": "[encoded data removed]",
                        "text/plain": [
                            "<Figure size 432x288 with 1 Axes>"
                        ]
                    },
                    "metadata": {
                        "needs_background": "light"
                    },
                    "output_type": "display_data"
                }
            ],
            "source": [
                "import matplotlib.pyplot as plt\n",
                "\n",
                "plt.plot(df['Cylinders'],df['Horsepower'])\n",
                "plt.xlabel('# of cylinders')\n",
                "plt.ylabel('avg horsepower')\n",
                "plt.show()"
            ]
        }
    ],
    "metadata": {
        "interpreter": {
            "hash": "8e40340cb5ab101938bbedfc75757f8841f7c572c0c6b22be4db9c8916b4e796"
        },
        "kernelspec": {
            "display_name": "Python 3.9.0 64-bit",
            "name": "python3"
        },
        "language_info": {
            "codemirror_mode": {
                "name": "ipython",
                "version": 3
            },
            "file_extension": ".py",
            "mimetype": "text/x-python",
            "name": "python",
            "nbconvert_exporter": "python",
            "pygments_lexer": "ipython3",
            "version": "3.9.0"
        },
        "orig_nbformat": 4
    },
    "nbformat": 4,
    "nbformat_minor": 2
}
