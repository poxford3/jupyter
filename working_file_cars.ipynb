{
    "cells": [
        {
            "cell_type": "markdown",
            "metadata": {},
            "source": [
                "<h1><center>Working with Data</center></h1>\n",
                "<h3><center>Parker O.</center></h3>\n",
                "<hr>"
            ]
        },
        {
            "cell_type": "markdown",
            "metadata": {},
            "source": [
                "<h3>importing libraries</h3>"
            ]
        },
        {
            "cell_type": "code",
            "execution_count": 2,
            "metadata": {},
            "outputs": [],
            "source": [
                "import matplotlib\n",
                "import pandas as pd\n",
                "import numpy as np"
            ]
        },
        {
            "cell_type": "markdown",
            "metadata": {},
            "source": [
                "### establishing dataframe"
            ]
        },
        {
            "cell_type": "code",
            "execution_count": 3,
            "metadata": {},
            "outputs": [
                {
                    "data": {
                        "text/html": [
                            "<div>\n",
                            "<style scoped>\n",
                            "    .dataframe tbody tr th:only-of-type {\n",
                            "        vertical-align: middle;\n",
                            "    }\n",
                            "\n",
                            "    .dataframe tbody tr th {\n",
                            "        vertical-align: top;\n",
                            "    }\n",
                            "\n",
                            "    .dataframe thead th {\n",
                            "        text-align: right;\n",
                            "    }\n",
                            "</style>\n",
                            "<table border=\"1\" class=\"dataframe\">\n",
                            "  <thead>\n",
                            "    <tr style=\"text-align: right;\">\n",
                            "      <th></th>\n",
                            "      <th>Car</th>\n",
                            "      <th>MPG</th>\n",
                            "      <th>Cylinders</th>\n",
                            "      <th>Displacement</th>\n",
                            "      <th>Horsepower</th>\n",
                            "      <th>Weight</th>\n",
                            "      <th>Acceleration</th>\n",
                            "      <th>Model</th>\n",
                            "      <th>Origin</th>\n",
                            "    </tr>\n",
                            "  </thead>\n",
                            "  <tbody>\n",
                            "    <tr>\n",
                            "      <th>0</th>\n",
                            "      <td>Chevrolet Chevelle Malibu</td>\n",
                            "      <td>18.0</td>\n",
                            "      <td>8</td>\n",
                            "      <td>307.0</td>\n",
                            "      <td>130.0</td>\n",
                            "      <td>3504.0</td>\n",
                            "      <td>12.0</td>\n",
                            "      <td>70</td>\n",
                            "      <td>US</td>\n",
                            "    </tr>\n",
                            "    <tr>\n",
                            "      <th>1</th>\n",
                            "      <td>Buick Skylark 320</td>\n",
                            "      <td>15.0</td>\n",
                            "      <td>8</td>\n",
                            "      <td>350.0</td>\n",
                            "      <td>165.0</td>\n",
                            "      <td>3693.0</td>\n",
                            "      <td>11.5</td>\n",
                            "      <td>70</td>\n",
                            "      <td>US</td>\n",
                            "    </tr>\n",
                            "    <tr>\n",
                            "      <th>2</th>\n",
                            "      <td>Plymouth Satellite</td>\n",
                            "      <td>18.0</td>\n",
                            "      <td>8</td>\n",
                            "      <td>318.0</td>\n",
                            "      <td>150.0</td>\n",
                            "      <td>3436.0</td>\n",
                            "      <td>11.0</td>\n",
                            "      <td>70</td>\n",
                            "      <td>US</td>\n",
                            "    </tr>\n",
                            "    <tr>\n",
                            "      <th>3</th>\n",
                            "      <td>AMC Rebel SST</td>\n",
                            "      <td>16.0</td>\n",
                            "      <td>8</td>\n",
                            "      <td>304.0</td>\n",
                            "      <td>150.0</td>\n",
                            "      <td>3433.0</td>\n",
                            "      <td>12.0</td>\n",
                            "      <td>70</td>\n",
                            "      <td>US</td>\n",
                            "    </tr>\n",
                            "    <tr>\n",
                            "      <th>4</th>\n",
                            "      <td>Ford Torino</td>\n",
                            "      <td>17.0</td>\n",
                            "      <td>8</td>\n",
                            "      <td>302.0</td>\n",
                            "      <td>140.0</td>\n",
                            "      <td>3449.0</td>\n",
                            "      <td>10.5</td>\n",
                            "      <td>70</td>\n",
                            "      <td>US</td>\n",
                            "    </tr>\n",
                            "  </tbody>\n",
                            "</table>\n",
                            "</div>"
                        ],
                        "text/plain": [
                            "                         Car   MPG  Cylinders  Displacement  Horsepower  \\\n",
                            "0  Chevrolet Chevelle Malibu  18.0          8         307.0       130.0   \n",
                            "1          Buick Skylark 320  15.0          8         350.0       165.0   \n",
                            "2         Plymouth Satellite  18.0          8         318.0       150.0   \n",
                            "3              AMC Rebel SST  16.0          8         304.0       150.0   \n",
                            "4                Ford Torino  17.0          8         302.0       140.0   \n",
                            "\n",
                            "   Weight  Acceleration  Model Origin  \n",
                            "0  3504.0          12.0     70     US  \n",
                            "1  3693.0          11.5     70     US  \n",
                            "2  3436.0          11.0     70     US  \n",
                            "3  3433.0          12.0     70     US  \n",
                            "4  3449.0          10.5     70     US  "
                        ]
                    },
                    "execution_count": 3,
                    "metadata": {},
                    "output_type": "execute_result"
                }
            ],
            "source": [
                "df = pd.read_csv('cars.csv')\n",
                "\n",
                "df.head()"
            ]
        },
        {
            "cell_type": "markdown",
            "metadata": {},
            "source": [
                "### working through the data"
            ]
        },
        {
            "cell_type": "code",
            "execution_count": null,
            "metadata": {},
            "outputs": [],
            "source": [
                "df.groupby(\"Cylinders\").mean()['Horsepower'].plot(kind='line')"
            ]
        },
        {
            "cell_type": "code",
            "execution_count": 5,
            "metadata": {},
            "outputs": [
                {
                    "data": {
                        "text/plain": [
                            "Car              object\n",
                            "MPG             float64\n",
                            "Cylinders         int64\n",
                            "Displacement    float64\n",
                            "Horsepower      float64\n",
                            "Weight          float64\n",
                            "Acceleration    float64\n",
                            "Model             int64\n",
                            "Origin           object\n",
                            "dtype: object"
                        ]
                    },
                    "execution_count": 5,
                    "metadata": {},
                    "output_type": "execute_result"
                }
            ],
            "source": [
                "df.dtypes"
            ]
        },
        {
            "cell_type": "code",
            "execution_count": null,
            "metadata": {},
            "outputs": [],
            "source": [
                "cyl5 = df[df['Cylinders'] == 5]\n",
                "\n",
                "cyl5.head(10)"
            ]
        },
        {
            "cell_type": "markdown",
            "metadata": {},
            "source": [
                "<h3>Setting up plots</h3>"
            ]
        },
        {
            "cell_type": "code",
            "execution_count": 8,
            "metadata": {},
            "outputs": [
                {
                    "data": {
                        "text/html": [
                            "<div>\n",
                            "<style scoped>\n",
                            "    .dataframe tbody tr th:only-of-type {\n",
                            "        vertical-align: middle;\n",
                            "    }\n",
                            "\n",
                            "    .dataframe tbody tr th {\n",
                            "        vertical-align: top;\n",
                            "    }\n",
                            "\n",
                            "    .dataframe thead th {\n",
                            "        text-align: right;\n",
                            "    }\n",
                            "</style>\n",
                            "<table border=\"1\" class=\"dataframe\">\n",
                            "  <thead>\n",
                            "    <tr style=\"text-align: right;\">\n",
                            "      <th></th>\n",
                            "      <th>Car</th>\n",
                            "      <th>MPG</th>\n",
                            "      <th>Cylinders</th>\n",
                            "      <th>Displacement</th>\n",
                            "      <th>Horsepower</th>\n",
                            "      <th>Weight</th>\n",
                            "      <th>Acceleration</th>\n",
                            "      <th>Model</th>\n",
                            "      <th>Origin</th>\n",
                            "      <th>Manufacturer</th>\n",
                            "    </tr>\n",
                            "  </thead>\n",
                            "  <tbody>\n",
                            "    <tr>\n",
                            "      <th>0</th>\n",
                            "      <td>Chevrolet Chevelle Malibu</td>\n",
                            "      <td>18.0</td>\n",
                            "      <td>8</td>\n",
                            "      <td>307.0</td>\n",
                            "      <td>130.0</td>\n",
                            "      <td>3504.0</td>\n",
                            "      <td>12.0</td>\n",
                            "      <td>70</td>\n",
                            "      <td>US</td>\n",
                            "      <td>Chevrolet</td>\n",
                            "    </tr>\n",
                            "    <tr>\n",
                            "      <th>1</th>\n",
                            "      <td>Buick Skylark 320</td>\n",
                            "      <td>15.0</td>\n",
                            "      <td>8</td>\n",
                            "      <td>350.0</td>\n",
                            "      <td>165.0</td>\n",
                            "      <td>3693.0</td>\n",
                            "      <td>11.5</td>\n",
                            "      <td>70</td>\n",
                            "      <td>US</td>\n",
                            "      <td>Buick</td>\n",
                            "    </tr>\n",
                            "    <tr>\n",
                            "      <th>2</th>\n",
                            "      <td>Plymouth Satellite</td>\n",
                            "      <td>18.0</td>\n",
                            "      <td>8</td>\n",
                            "      <td>318.0</td>\n",
                            "      <td>150.0</td>\n",
                            "      <td>3436.0</td>\n",
                            "      <td>11.0</td>\n",
                            "      <td>70</td>\n",
                            "      <td>US</td>\n",
                            "      <td>Plymouth</td>\n",
                            "    </tr>\n",
                            "    <tr>\n",
                            "      <th>3</th>\n",
                            "      <td>AMC Rebel SST</td>\n",
                            "      <td>16.0</td>\n",
                            "      <td>8</td>\n",
                            "      <td>304.0</td>\n",
                            "      <td>150.0</td>\n",
                            "      <td>3433.0</td>\n",
                            "      <td>12.0</td>\n",
                            "      <td>70</td>\n",
                            "      <td>US</td>\n",
                            "      <td>AMC</td>\n",
                            "    </tr>\n",
                            "    <tr>\n",
                            "      <th>4</th>\n",
                            "      <td>Ford Torino</td>\n",
                            "      <td>17.0</td>\n",
                            "      <td>8</td>\n",
                            "      <td>302.0</td>\n",
                            "      <td>140.0</td>\n",
                            "      <td>3449.0</td>\n",
                            "      <td>10.5</td>\n",
                            "      <td>70</td>\n",
                            "      <td>US</td>\n",
                            "      <td>Ford</td>\n",
                            "    </tr>\n",
                            "  </tbody>\n",
                            "</table>\n",
                            "</div>"
                        ],
                        "text/plain": [
                            "                         Car   MPG  Cylinders  Displacement  Horsepower  \\\n",
                            "0  Chevrolet Chevelle Malibu  18.0          8         307.0       130.0   \n",
                            "1          Buick Skylark 320  15.0          8         350.0       165.0   \n",
                            "2         Plymouth Satellite  18.0          8         318.0       150.0   \n",
                            "3              AMC Rebel SST  16.0          8         304.0       150.0   \n",
                            "4                Ford Torino  17.0          8         302.0       140.0   \n",
                            "\n",
                            "   Weight  Acceleration  Model Origin Manufacturer  \n",
                            "0  3504.0          12.0     70     US    Chevrolet  \n",
                            "1  3693.0          11.5     70     US        Buick  \n",
                            "2  3436.0          11.0     70     US     Plymouth  \n",
                            "3  3433.0          12.0     70     US          AMC  \n",
                            "4  3449.0          10.5     70     US         Ford  "
                        ]
                    },
                    "execution_count": 8,
                    "metadata": {},
                    "output_type": "execute_result"
                }
            ],
            "source": [
                "new = df['Car'].str.split(' ', n=1,expand=True)\n",
                "\n",
                "df['Manufacturer'] = new[0]\n",
                "\n",
                "df.head()"
            ]
        },
        {
            "cell_type": "code",
            "execution_count": 15,
            "metadata": {},
            "outputs": [
                {
                    "data": {
                        "image/png": "[encoded data removed]",
                        "text/plain": [
                            "<Figure size 648x576 with 1 Axes>"
                        ]
                    },
                    "metadata": {
                        "needs_background": "light"
                    },
                    "output_type": "display_data"
                }
            ],
            "source": [
                "plot = df.groupby('Model').mean()['Horsepower'].plot(\n",
                "    kind='bar', \n",
                "    title='Chart of Companies', \n",
                "    figsize=[9,8],\n",
                "    xlabel='Manufacturer',\n",
                "    ylabel='Average HP (mpg)'\n",
                "    )"
            ]
        }
    ],
    "metadata": {
        "interpreter": {
            "hash": "8e40340cb5ab101938bbedfc75757f8841f7c572c0c6b22be4db9c8916b4e796"
        },
        "kernelspec": {
            "display_name": "Python 3.9.0 64-bit",
            "name": "python3"
        },
        "language_info": {
            "codemirror_mode": {
                "name": "ipython",
                "version": 3
            },
            "file_extension": ".py",
            "mimetype": "text/x-python",
            "name": "python",
            "nbconvert_exporter": "python",
            "pygments_lexer": "ipython3",
            "version": "3.9.0"
        },
        "orig_nbformat": 4
    },
    "nbformat": 4,
    "nbformat_minor": 2
}
